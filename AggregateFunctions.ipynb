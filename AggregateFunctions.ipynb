{
 "cells": [
  {
   "cell_type": "code",
   "execution_count": 4,
   "id": "b785cf98",
   "metadata": {},
   "outputs": [
    {
     "name": "stdout",
     "output_type": "stream",
     "text": [
      "23/04/04 16:41:53 WARN Utils: Your hostname, murali-VirtualBox resolves to a loopback address: 127.0.1.1; using 10.0.2.15 instead (on interface enp0s3)\n",
      "23/04/04 16:41:53 WARN Utils: Set SPARK_LOCAL_IP if you need to bind to another address\n"
     ]
    },
    {
     "name": "stderr",
     "output_type": "stream",
     "text": [
      "Setting default log level to \"WARN\".\n",
      "To adjust logging level use sc.setLogLevel(newLevel). For SparkR, use setLogLevel(newLevel).\n"
     ]
    },
    {
     "name": "stdout",
     "output_type": "stream",
     "text": [
      "23/04/04 16:41:53 WARN NativeCodeLoader: Unable to load native-hadoop library for your platform... using builtin-java classes where applicable\n",
      "23/04/04 16:41:54 WARN Utils: Service 'SparkUI' could not bind on port 4040. Attempting port 4041.\n",
      "23/04/04 16:41:54 WARN Utils: Service 'SparkUI' could not bind on port 4041. Attempting port 4042.\n"
     ]
    }
   ],
   "source": [
    "import findspark\n",
    "findspark.init('/home/murali/spark-3.3.2-bin-hadoop3')\n",
    "from pyspark.sql import SparkSession\n",
    "spark = SparkSession.builder.appName('AggFunctions').getOrCreate()"
   ]
  },
  {
   "cell_type": "code",
   "execution_count": null,
   "id": "7be54445",
   "metadata": {},
   "outputs": [],
   "source": [
    "###  approx_count_distinct()  \n",
    "  returns the count of distinct items in a group of rows\n",
    "###  avg()\n",
    "  returns average of values in a group of rows\n",
    "###  collect_list()\n",
    "  returns all values from input column as list with duplicates\n",
    "###  collect_set()\n",
    "  returns all values form the input column as a list with out duplicates\n",
    "###  countDistinct()\n",
    "  returns numnber of distinct elements in input coulumn\n",
    "###  Count()\n",
    "   returns number of elements in a column"
   ]
  },
  {
   "cell_type": "code",
   "execution_count": 13,
   "id": "0d9e1c1f",
   "metadata": {},
   "outputs": [],
   "source": [
    "from pyspark.sql.functions import approx_count_distinct, avg,collect_list, collect_set,count_distinct, count\n",
    "\n",
    "simpleData = [\n",
    "    ('murali','hr',1500),\n",
    "    ('geetha','it',3000),\n",
    "    ('chintu','developer',4000),\n",
    "    ('chinna','developer',3000)\n",
    "]\n",
    "\n",
    "schema = ['name','dept','sal']\n",
    "\n",
    "df = spark.createDataFrame(simpleData,schema)"
   ]
  },
  {
   "cell_type": "code",
   "execution_count": 14,
   "id": "dc9705a2",
   "metadata": {},
   "outputs": [
    {
     "name": "stdout",
     "output_type": "stream",
     "text": [
      "+------+---------+----+\n",
      "|  name|     dept| sal|\n",
      "+------+---------+----+\n",
      "|murali|       hr|1500|\n",
      "|geetha|       it|3000|\n",
      "|chintu|developer|4000|\n",
      "|chinna|developer|3000|\n",
      "+------+---------+----+\n",
      "\n"
     ]
    }
   ],
   "source": [
    "df.show()"
   ]
  },
  {
   "cell_type": "code",
   "execution_count": 23,
   "id": "e34a1afb",
   "metadata": {},
   "outputs": [
    {
     "name": "stdout",
     "output_type": "stream",
     "text": [
      "+----------------+\n",
      "|distinct_sal_cnt|\n",
      "+----------------+\n",
      "|               3|\n",
      "+----------------+\n",
      "\n"
     ]
    }
   ],
   "source": [
    "df.select(approx_count_distinct('sal').alias('distinct_sal_cnt')).show()"
   ]
  },
  {
   "cell_type": "code",
   "execution_count": 24,
   "id": "1f7ff9b3",
   "metadata": {},
   "outputs": [
    {
     "name": "stdout",
     "output_type": "stream",
     "text": [
      "+--------+\n",
      "|avg(sal)|\n",
      "+--------+\n",
      "|  2875.0|\n",
      "+--------+\n",
      "\n"
     ]
    }
   ],
   "source": [
    "df.select(avg('sal')).show()"
   ]
  },
  {
   "cell_type": "code",
   "execution_count": 26,
   "id": "30b3dd7e",
   "metadata": {},
   "outputs": [
    {
     "name": "stdout",
     "output_type": "stream",
     "text": [
      "+------------------------+\n",
      "|collect_list(sal)       |\n",
      "+------------------------+\n",
      "|[1500, 3000, 4000, 3000]|\n",
      "+------------------------+\n",
      "\n"
     ]
    }
   ],
   "source": [
    "df.select(collect_list('sal')).show(truncate=False)"
   ]
  },
  {
   "cell_type": "code",
   "execution_count": 27,
   "id": "541f79f7",
   "metadata": {},
   "outputs": [
    {
     "name": "stdout",
     "output_type": "stream",
     "text": [
      "+------------------+\n",
      "|collect_set(sal)  |\n",
      "+------------------+\n",
      "|[3000, 4000, 1500]|\n",
      "+------------------+\n",
      "\n"
     ]
    }
   ],
   "source": [
    "df.select(collect_set('sal')).show(truncate=False)"
   ]
  },
  {
   "cell_type": "code",
   "execution_count": 28,
   "id": "b4b7cce6",
   "metadata": {},
   "outputs": [
    {
     "name": "stdout",
     "output_type": "stream",
     "text": [
      "+--------------------+\n",
      "|count(DISTINCT name)|\n",
      "+--------------------+\n",
      "|                   4|\n",
      "+--------------------+\n",
      "\n"
     ]
    }
   ],
   "source": [
    "df.select(count_distinct('name')).show()"
   ]
  },
  {
   "cell_type": "code",
   "execution_count": 29,
   "id": "83db62bd",
   "metadata": {},
   "outputs": [
    {
     "name": "stdout",
     "output_type": "stream",
     "text": [
      "+----------+\n",
      "|count(sal)|\n",
      "+----------+\n",
      "|         4|\n",
      "+----------+\n",
      "\n"
     ]
    }
   ],
   "source": [
    "df.select(count('sal')).show()"
   ]
  },
  {
   "cell_type": "markdown",
   "id": "64cbf7aa",
   "metadata": {},
   "source": [
    "# row_number(), ran(), dense_rank()\n",
    "\n",
    "we need to partiion the data using window.partitionBy() and for row number and rank, we need order by on partition data using order by clause\n",
    "\n"
   ]
  },
  {
   "cell_type": "code",
   "execution_count": 43,
   "id": "d79d3a2e",
   "metadata": {},
   "outputs": [
    {
     "name": "stdout",
     "output_type": "stream",
     "text": [
      "+-----+------+---------+----+-----------+----+----+------+----------+--------+\n",
      "|EMPNO| ENAME|      JOB| MGR|   HIREDATE| SAL|COMM|DEPTNO|     DNAME|LOCATION|\n",
      "+-----+------+---------+----+-----------+----+----+------+----------+--------+\n",
      "| 7369| SMITH|    CLERK|7902|17-DEC-1980| 800|null|    20|  RESEARCH|  DALLAS|\n",
      "| 7499| ALLEN| SALESMAN|7698|20-FEB-1981|1600| 300|    30|     SALES| CHICAGO|\n",
      "| 7521|  WARD| SALESMAN|7698|22-FEB-1981|1250| 500|    30|     SALES| CHICAGO|\n",
      "| 7566| JONES|  MANAGER|7839|02-APR-1981|2975|null|    20|  RESEARCH|  DALLAS|\n",
      "| 7654|MARTIN| SALESMAN|7698|28-SEP-1981|1250|1400|    30|     SALES| CHICAGO|\n",
      "| 7698| BLAKE|  MANAGER|7839|01-MAY-1981|2850|null|    30|     SALES| CHICAGO|\n",
      "| 7782| CLARK|  MANAGER|7839|09-JUN-1981|2450|null|    10|ACCOUNTING|NEW YORK|\n",
      "| 7788| SCOTT|  ANALYST|7566|19-APR-1987|3000|null|    20|  RESEARCH|  DALLAS|\n",
      "| 7839|  KING|PRESIDENT|null|17-NOV-1981|5000|null|    10|ACCOUNTING|NEW YORK|\n",
      "| 7844|TURNER| SALESMAN|7698|08-SEP-1981|1500|   0|    30|     SALES| CHICAGO|\n",
      "| 7876| ADAMS|    CLERK|7788|23-MAY-1987|1100|null|    20|  RESEARCH|  DALLAS|\n",
      "| 7900| JAMES|    CLERK|7698|03-DEC-1981| 950|null|    30|     SALES| CHICAGO|\n",
      "| 7902|  FORD|  ANALYST|7566|03-DEC-1981|3000|null|    20|  RESEARCH|  DALLAS|\n",
      "| 7934|MILLER|    CLERK|7782|23-JAN-1982|1300|null|    10|ACCOUNTING|NEW YORK|\n",
      "+-----+------+---------+----+-----------+----+----+------+----------+--------+\n",
      "\n"
     ]
    }
   ],
   "source": [
    "emp_path = '/home/murali/Desktop/data_files/emp.csv'\n",
    "\n",
    "emp = spark.read.csv(emp_path,header=True, inferSchema=True)\n",
    "\n",
    "\n",
    "dept_path = '/home/murali/Desktop/data_files/dept.csv'\n",
    "dept = spark.read.csv(dept_path,header=True, inferSchema=True)\n",
    "\n",
    "joined_df = emp.join(dept, emp.DEPTNO == dept.DEPTNO, 'left_outer').\\\n",
    "select(emp.EMPNO,emp.ENAME,emp.JOB,emp.MGR,emp.HIREDATE,emp.SAL,emp.COMM,emp.DEPTNO,dept.DNAME,dept.LOCATION)\n",
    "      \n",
    "#joined_df = emp.join(dept, emp.DEPTNO == dept.DEPTNO, 'left_outer')\n",
    "joined_df.show()"
   ]
  },
  {
   "cell_type": "code",
   "execution_count": 51,
   "id": "6d540d42",
   "metadata": {},
   "outputs": [
    {
     "name": "stdout",
     "output_type": "stream",
     "text": [
      "+-----+------+---------+----+-----------+----+----+------+----------+--------+\n",
      "|EMPNO| ENAME|      JOB| MGR|   HIREDATE| SAL|COMM|DEPTNO|     DNAME|LOCATION|\n",
      "+-----+------+---------+----+-----------+----+----+------+----------+--------+\n",
      "| 7369| SMITH|    CLERK|7902|17-DEC-1980| 800|null|    20|  RESEARCH|  DALLAS|\n",
      "| 7900| JAMES|    CLERK|7698|03-DEC-1981| 950|null|    30|     SALES| CHICAGO|\n",
      "| 7876| ADAMS|    CLERK|7788|23-MAY-1987|1100|null|    20|  RESEARCH|  DALLAS|\n",
      "| 7654|MARTIN| SALESMAN|7698|28-SEP-1981|1250|1400|    30|     SALES| CHICAGO|\n",
      "| 7521|  WARD| SALESMAN|7698|22-FEB-1981|1250| 500|    30|     SALES| CHICAGO|\n",
      "| 7934|MILLER|    CLERK|7782|23-JAN-1982|1300|null|    10|ACCOUNTING|NEW YORK|\n",
      "| 7844|TURNER| SALESMAN|7698|08-SEP-1981|1500|   0|    30|     SALES| CHICAGO|\n",
      "| 7499| ALLEN| SALESMAN|7698|20-FEB-1981|1600| 300|    30|     SALES| CHICAGO|\n",
      "| 7782| CLARK|  MANAGER|7839|09-JUN-1981|2450|null|    10|ACCOUNTING|NEW YORK|\n",
      "| 7698| BLAKE|  MANAGER|7839|01-MAY-1981|2850|null|    30|     SALES| CHICAGO|\n",
      "| 7566| JONES|  MANAGER|7839|02-APR-1981|2975|null|    20|  RESEARCH|  DALLAS|\n",
      "| 7788| SCOTT|  ANALYST|7566|19-APR-1987|3000|null|    20|  RESEARCH|  DALLAS|\n",
      "| 7902|  FORD|  ANALYST|7566|03-DEC-1981|3000|null|    20|  RESEARCH|  DALLAS|\n",
      "| 7839|  KING|PRESIDENT|null|17-NOV-1981|5000|null|    10|ACCOUNTING|NEW YORK|\n",
      "+-----+------+---------+----+-----------+----+----+------+----------+--------+\n",
      "\n"
     ]
    }
   ],
   "source": [
    "# row_number \n",
    "joined_df.sort('sal').show()"
   ]
  },
  {
   "cell_type": "code",
   "execution_count": 81,
   "id": "c54111aa",
   "metadata": {},
   "outputs": [
    {
     "name": "stdout",
     "output_type": "stream",
     "text": [
      "+-----+------+---------+----+-----------+----+----+------+----------+--------+-------+\n",
      "|EMPNO| ENAME|      JOB| MGR|   HIREDATE| SAL|COMM|DEPTNO|     DNAME|LOCATION|seq_num|\n",
      "+-----+------+---------+----+-----------+----+----+------+----------+--------+-------+\n",
      "| 7369| SMITH|    CLERK|7902|17-DEC-1980| 800|null|    20|  RESEARCH|  DALLAS|      1|\n",
      "| 7499| ALLEN| SALESMAN|7698|20-FEB-1981|1600| 300|    30|     SALES| CHICAGO|      2|\n",
      "| 7521|  WARD| SALESMAN|7698|22-FEB-1981|1250| 500|    30|     SALES| CHICAGO|      3|\n",
      "| 7566| JONES|  MANAGER|7839|02-APR-1981|2975|null|    20|  RESEARCH|  DALLAS|      4|\n",
      "| 7654|MARTIN| SALESMAN|7698|28-SEP-1981|1250|1400|    30|     SALES| CHICAGO|      5|\n",
      "| 7698| BLAKE|  MANAGER|7839|01-MAY-1981|2850|null|    30|     SALES| CHICAGO|      6|\n",
      "| 7782| CLARK|  MANAGER|7839|09-JUN-1981|2450|null|    10|ACCOUNTING|NEW YORK|      7|\n",
      "| 7788| SCOTT|  ANALYST|7566|19-APR-1987|3000|null|    20|  RESEARCH|  DALLAS|      8|\n",
      "| 7839|  KING|PRESIDENT|null|17-NOV-1981|5000|null|    10|ACCOUNTING|NEW YORK|      9|\n",
      "| 7844|TURNER| SALESMAN|7698|08-SEP-1981|1500|   0|    30|     SALES| CHICAGO|     10|\n",
      "| 7876| ADAMS|    CLERK|7788|23-MAY-1987|1100|null|    20|  RESEARCH|  DALLAS|     11|\n",
      "| 7900| JAMES|    CLERK|7698|03-DEC-1981| 950|null|    30|     SALES| CHICAGO|     12|\n",
      "| 7902|  FORD|  ANALYST|7566|03-DEC-1981|3000|null|    20|  RESEARCH|  DALLAS|     13|\n",
      "| 7934|MILLER|    CLERK|7782|23-JAN-1982|1300|null|    10|ACCOUNTING|NEW YORK|     14|\n",
      "+-----+------+---------+----+-----------+----+----+------+----------+--------+-------+\n",
      "\n"
     ]
    }
   ],
   "source": [
    "from pyspark.sql.functions import rank,dense_rank,row_number, desc\n",
    "from pyspark.sql.window import Window\n",
    "from pyspark.sql.functions import monotonically_increasing_id\n",
    "\n",
    "df_seqNo = joined_df.withColumn(\"seq_num\", monotonically_increasing_id()+1)\n",
    "df_seqNo.show()"
   ]
  },
  {
   "cell_type": "code",
   "execution_count": 89,
   "id": "cddf187c",
   "metadata": {},
   "outputs": [
    {
     "name": "stdout",
     "output_type": "stream",
     "text": [
      "+-----+------+---------+----+-----------+----+----+------+----------+--------+-------+--------+\n",
      "|EMPNO| ENAME|      JOB| MGR|   HIREDATE| SAL|COMM|DEPTNO|     DNAME|LOCATION|seq_num|rank_num|\n",
      "+-----+------+---------+----+-----------+----+----+------+----------+--------+-------+--------+\n",
      "| 7839|  KING|PRESIDENT|null|17-NOV-1981|5000|null|    10|ACCOUNTING|NEW YORK|      9|       1|\n",
      "| 7782| CLARK|  MANAGER|7839|09-JUN-1981|2450|null|    10|ACCOUNTING|NEW YORK|      7|       2|\n",
      "| 7934|MILLER|    CLERK|7782|23-JAN-1982|1300|null|    10|ACCOUNTING|NEW YORK|     14|       3|\n",
      "| 7788| SCOTT|  ANALYST|7566|19-APR-1987|3000|null|    20|  RESEARCH|  DALLAS|      8|       1|\n",
      "| 7902|  FORD|  ANALYST|7566|03-DEC-1981|3000|null|    20|  RESEARCH|  DALLAS|     13|       1|\n",
      "| 7566| JONES|  MANAGER|7839|02-APR-1981|2975|null|    20|  RESEARCH|  DALLAS|      4|       3|\n",
      "| 7876| ADAMS|    CLERK|7788|23-MAY-1987|1100|null|    20|  RESEARCH|  DALLAS|     11|       4|\n",
      "| 7369| SMITH|    CLERK|7902|17-DEC-1980| 800|null|    20|  RESEARCH|  DALLAS|      1|       5|\n",
      "| 7698| BLAKE|  MANAGER|7839|01-MAY-1981|2850|null|    30|     SALES| CHICAGO|      6|       1|\n",
      "| 7499| ALLEN| SALESMAN|7698|20-FEB-1981|1600| 300|    30|     SALES| CHICAGO|      2|       2|\n",
      "| 7844|TURNER| SALESMAN|7698|08-SEP-1981|1500|   0|    30|     SALES| CHICAGO|     10|       3|\n",
      "| 7521|  WARD| SALESMAN|7698|22-FEB-1981|1250| 500|    30|     SALES| CHICAGO|      3|       4|\n",
      "| 7654|MARTIN| SALESMAN|7698|28-SEP-1981|1250|1400|    30|     SALES| CHICAGO|      5|       4|\n",
      "| 7900| JAMES|    CLERK|7698|03-DEC-1981| 950|null|    30|     SALES| CHICAGO|     12|       6|\n",
      "+-----+------+---------+----+-----------+----+----+------+----------+--------+-------+--------+\n",
      "\n"
     ]
    }
   ],
   "source": [
    "window_spec = Window.partitionBy('DEPTNO').orderBy(desc('SAL'))\n",
    "df_seqNo.withColumn('rank_num', rank().over(window_spec)).show()"
   ]
  },
  {
   "cell_type": "code",
   "execution_count": 88,
   "id": "ea27b999",
   "metadata": {},
   "outputs": [
    {
     "name": "stdout",
     "output_type": "stream",
     "text": [
      "+-----+------+---------+----+-----------+----+----+------+----------+--------+-------+-------+\n",
      "|EMPNO| ENAME|      JOB| MGR|   HIREDATE| SAL|COMM|DEPTNO|     DNAME|LOCATION|seq_num|row_num|\n",
      "+-----+------+---------+----+-----------+----+----+------+----------+--------+-------+-------+\n",
      "| 7934|MILLER|    CLERK|7782|23-JAN-1982|1300|null|    10|ACCOUNTING|NEW YORK|     14|      1|\n",
      "| 7782| CLARK|  MANAGER|7839|09-JUN-1981|2450|null|    10|ACCOUNTING|NEW YORK|      7|      2|\n",
      "| 7839|  KING|PRESIDENT|null|17-NOV-1981|5000|null|    10|ACCOUNTING|NEW YORK|      9|      3|\n",
      "| 7369| SMITH|    CLERK|7902|17-DEC-1980| 800|null|    20|  RESEARCH|  DALLAS|      1|      1|\n",
      "| 7876| ADAMS|    CLERK|7788|23-MAY-1987|1100|null|    20|  RESEARCH|  DALLAS|     11|      2|\n",
      "| 7566| JONES|  MANAGER|7839|02-APR-1981|2975|null|    20|  RESEARCH|  DALLAS|      4|      3|\n",
      "| 7788| SCOTT|  ANALYST|7566|19-APR-1987|3000|null|    20|  RESEARCH|  DALLAS|      8|      4|\n",
      "| 7902|  FORD|  ANALYST|7566|03-DEC-1981|3000|null|    20|  RESEARCH|  DALLAS|     13|      5|\n",
      "| 7900| JAMES|    CLERK|7698|03-DEC-1981| 950|null|    30|     SALES| CHICAGO|     12|      1|\n",
      "| 7521|  WARD| SALESMAN|7698|22-FEB-1981|1250| 500|    30|     SALES| CHICAGO|      3|      2|\n",
      "| 7654|MARTIN| SALESMAN|7698|28-SEP-1981|1250|1400|    30|     SALES| CHICAGO|      5|      3|\n",
      "| 7844|TURNER| SALESMAN|7698|08-SEP-1981|1500|   0|    30|     SALES| CHICAGO|     10|      4|\n",
      "| 7499| ALLEN| SALESMAN|7698|20-FEB-1981|1600| 300|    30|     SALES| CHICAGO|      2|      5|\n",
      "| 7698| BLAKE|  MANAGER|7839|01-MAY-1981|2850|null|    30|     SALES| CHICAGO|      6|      6|\n",
      "+-----+------+---------+----+-----------+----+----+------+----------+--------+-------+-------+\n",
      "\n"
     ]
    }
   ],
   "source": [
    "#row_number()\n",
    "window_spec = Window.partitionBy('DEPTNO').orderBy('SAL')\n",
    "df_seqNo.withColumn('row_num', row_number().over(window_spec)).show()"
   ]
  },
  {
   "cell_type": "code",
   "execution_count": 87,
   "id": "7252b0df",
   "metadata": {},
   "outputs": [
    {
     "name": "stdout",
     "output_type": "stream",
     "text": [
      "+-----+------+---------+----+-----------+----+----+------+----------+--------+-------+--------+\n",
      "|EMPNO| ENAME|      JOB| MGR|   HIREDATE| SAL|COMM|DEPTNO|     DNAME|LOCATION|seq_num|rank_num|\n",
      "+-----+------+---------+----+-----------+----+----+------+----------+--------+-------+--------+\n",
      "| 7839|  KING|PRESIDENT|null|17-NOV-1981|5000|null|    10|ACCOUNTING|NEW YORK|      9|       1|\n",
      "| 7782| CLARK|  MANAGER|7839|09-JUN-1981|2450|null|    10|ACCOUNTING|NEW YORK|      7|       2|\n",
      "| 7934|MILLER|    CLERK|7782|23-JAN-1982|1300|null|    10|ACCOUNTING|NEW YORK|     14|       3|\n",
      "| 7788| SCOTT|  ANALYST|7566|19-APR-1987|3000|null|    20|  RESEARCH|  DALLAS|      8|       1|\n",
      "| 7902|  FORD|  ANALYST|7566|03-DEC-1981|3000|null|    20|  RESEARCH|  DALLAS|     13|       1|\n",
      "| 7566| JONES|  MANAGER|7839|02-APR-1981|2975|null|    20|  RESEARCH|  DALLAS|      4|       2|\n",
      "| 7876| ADAMS|    CLERK|7788|23-MAY-1987|1100|null|    20|  RESEARCH|  DALLAS|     11|       3|\n",
      "| 7369| SMITH|    CLERK|7902|17-DEC-1980| 800|null|    20|  RESEARCH|  DALLAS|      1|       4|\n",
      "| 7698| BLAKE|  MANAGER|7839|01-MAY-1981|2850|null|    30|     SALES| CHICAGO|      6|       1|\n",
      "| 7499| ALLEN| SALESMAN|7698|20-FEB-1981|1600| 300|    30|     SALES| CHICAGO|      2|       2|\n",
      "| 7844|TURNER| SALESMAN|7698|08-SEP-1981|1500|   0|    30|     SALES| CHICAGO|     10|       3|\n",
      "| 7521|  WARD| SALESMAN|7698|22-FEB-1981|1250| 500|    30|     SALES| CHICAGO|      3|       4|\n",
      "| 7654|MARTIN| SALESMAN|7698|28-SEP-1981|1250|1400|    30|     SALES| CHICAGO|      5|       4|\n",
      "| 7900| JAMES|    CLERK|7698|03-DEC-1981| 950|null|    30|     SALES| CHICAGO|     12|       5|\n",
      "+-----+------+---------+----+-----------+----+----+------+----------+--------+-------+--------+\n",
      "\n"
     ]
    }
   ],
   "source": [
    "#dennce_rank\n",
    "window_spec = Window.partitionBy('DEPTNO').orderBy(desc('SAL'))\n",
    "df_seqNo.withColumn('dense_rank_num', dense_rank().over(window_spec)).show()"
   ]
  },
  {
   "cell_type": "code",
   "execution_count": null,
   "id": "e08b6561",
   "metadata": {},
   "outputs": [],
   "source": []
  },
  {
   "cell_type": "code",
   "execution_count": null,
   "id": "ecb930f2",
   "metadata": {},
   "outputs": [],
   "source": []
  }
 ],
 "metadata": {
  "kernelspec": {
   "display_name": "Python 3 (ipykernel)",
   "language": "python",
   "name": "python3"
  },
  "language_info": {
   "codemirror_mode": {
    "name": "ipython",
    "version": 3
   },
   "file_extension": ".py",
   "mimetype": "text/x-python",
   "name": "python",
   "nbconvert_exporter": "python",
   "pygments_lexer": "ipython3",
   "version": "3.10.6"
  }
 },
 "nbformat": 4,
 "nbformat_minor": 5
}
