{
 "cells": [
  {
   "cell_type": "code",
   "execution_count": 1,
   "id": "ad9fc2a2",
   "metadata": {},
   "outputs": [
    {
     "name": "stdout",
     "output_type": "stream",
     "text": [
      "23/04/01 16:53:10 WARN Utils: Your hostname, murali-VirtualBox resolves to a loopback address: 127.0.1.1; using 10.0.2.15 instead (on interface enp0s3)\n",
      "23/04/01 16:53:10 WARN Utils: Set SPARK_LOCAL_IP if you need to bind to another address\n"
     ]
    },
    {
     "name": "stderr",
     "output_type": "stream",
     "text": [
      "Setting default log level to \"WARN\".\n",
      "To adjust logging level use sc.setLogLevel(newLevel). For SparkR, use setLogLevel(newLevel).\n"
     ]
    },
    {
     "name": "stdout",
     "output_type": "stream",
     "text": [
      "23/04/01 16:53:11 WARN NativeCodeLoader: Unable to load native-hadoop library for your platform... using builtin-java classes where applicable\n",
      "23/04/01 16:53:12 WARN Utils: Service 'SparkUI' could not bind on port 4040. Attempting port 4041.\n",
      "23/04/01 16:53:12 WARN Utils: Service 'SparkUI' could not bind on port 4041. Attempting port 4042.\n",
      "23/04/01 16:53:12 WARN Utils: Service 'SparkUI' could not bind on port 4042. Attempting port 4043.\n",
      "23/04/01 16:53:12 WARN Utils: Service 'SparkUI' could not bind on port 4043. Attempting port 4044.\n",
      "23/04/01 16:53:12 WARN Utils: Service 'SparkUI' could not bind on port 4044. Attempting port 4045.\n",
      "23/04/01 16:53:12 WARN Utils: Service 'SparkUI' could not bind on port 4045. Attempting port 4046.\n"
     ]
    }
   ],
   "source": [
    "import findspark\n",
    "findspark.init('/home/murali/spark-3.3.2-bin-hadoop3')\n",
    "import pyspark\n",
    "from pyspark.sql import SparkSession\n",
    "spark = SparkSession.builder.getOrCreate()\n",
    "from pyspark.sql.types import *\n",
    "from pyspark.sql import *"
   ]
  },
  {
   "cell_type": "markdown",
   "id": "422bae48",
   "metadata": {},
   "source": [
    "# Read Data from CSV"
   ]
  },
  {
   "cell_type": "code",
   "execution_count": 2,
   "id": "378a9faf",
   "metadata": {},
   "outputs": [],
   "source": [
    "df = spark.read.csv(path = \"emp_data/Employees1.csv\",header=True,inferSchema=True)"
   ]
  },
  {
   "cell_type": "code",
   "execution_count": 3,
   "id": "55cb5b15",
   "metadata": {},
   "outputs": [
    {
     "data": {
      "text/plain": [
       "DataFrame[id: int, name: string, gender: string, salary: int]"
      ]
     },
     "metadata": {},
     "output_type": "display_data"
    }
   ],
   "source": [
    "display(df)"
   ]
  },
  {
   "cell_type": "code",
   "execution_count": 4,
   "id": "a1ee6b91",
   "metadata": {},
   "outputs": [
    {
     "name": "stdout",
     "output_type": "stream",
     "text": [
      "root\n",
      " |-- id: integer (nullable = true)\n",
      " |-- name: string (nullable = true)\n",
      " |-- gender: string (nullable = true)\n",
      " |-- salary: integer (nullable = true)\n",
      "\n"
     ]
    }
   ],
   "source": [
    "df.printSchema()"
   ]
  },
  {
   "cell_type": "code",
   "execution_count": 5,
   "id": "fa25deda",
   "metadata": {},
   "outputs": [
    {
     "name": "stdout",
     "output_type": "stream",
     "text": [
      "+---+------+------+------+\n",
      "| id|  name|gender|salary|\n",
      "+---+------+------+------+\n",
      "|  1|murali|  male|  1000|\n",
      "|  2|chintu|  male|  2000|\n",
      "+---+------+------+------+\n",
      "\n"
     ]
    }
   ],
   "source": [
    "df.show()"
   ]
  },
  {
   "cell_type": "code",
   "execution_count": 9,
   "id": "969e69c1",
   "metadata": {},
   "outputs": [],
   "source": [
    "schema = StructType(\n",
    "                    [\n",
    "                        StructField('Id',IntegerType()),\n",
    "                        StructField('name',StringType()),\n",
    "                        StructField('gender',StringType()),\n",
    "                        StructField('salary',IntegerType())\n",
    "                    ]\n",
    "\n",
    ")"
   ]
  },
  {
   "cell_type": "markdown",
   "id": "7ece534a",
   "metadata": {},
   "source": [
    "Another way to read CSV"
   ]
  },
  {
   "cell_type": "code",
   "execution_count": 10,
   "id": "b801a04d",
   "metadata": {},
   "outputs": [],
   "source": [
    "df = spark.read.format('csv').option(key='header',value=True).load(\"emp_data/Employees1.csv\",schema=schema)"
   ]
  },
  {
   "cell_type": "code",
   "execution_count": 12,
   "id": "eb2db2ed",
   "metadata": {},
   "outputs": [],
   "source": [
    "# read multiple files and create a database. Need to pass the paths as a list\n",
    "df = spark.read.csv(path = ([\"emp_data/Employees1.csv\",\"emp_data/Employees2.csv\"]),header=True,inferSchema=True)"
   ]
  },
  {
   "cell_type": "code",
   "execution_count": 13,
   "id": "e65cbfba",
   "metadata": {},
   "outputs": [
    {
     "name": "stdout",
     "output_type": "stream",
     "text": [
      "root\n",
      " |-- id: integer (nullable = true)\n",
      " |-- name: string (nullable = true)\n",
      " |-- gender: string (nullable = true)\n",
      " |-- salary: integer (nullable = true)\n",
      "\n"
     ]
    }
   ],
   "source": [
    "df.printSchema()"
   ]
  },
  {
   "cell_type": "code",
   "execution_count": 14,
   "id": "873af535",
   "metadata": {},
   "outputs": [
    {
     "name": "stdout",
     "output_type": "stream",
     "text": [
      "+---+------+------+------+\n",
      "| id|  name|gender|salary|\n",
      "+---+------+------+------+\n",
      "|  3|geetha|female|  3000|\n",
      "|  4|chinna|  male|  4000|\n",
      "|  1|murali|  male|  1000|\n",
      "|  2|chintu|  male|  2000|\n",
      "+---+------+------+------+\n",
      "\n"
     ]
    }
   ],
   "source": [
    "df.show()"
   ]
  },
  {
   "cell_type": "code",
   "execution_count": 15,
   "id": "f3ed83b6",
   "metadata": {},
   "outputs": [],
   "source": [
    "# load all files that has same schema in a folder\n",
    "df = spark.read.csv(path = ([\"emp_data/\"]),header=True,inferSchema=True) # optionally we can give schema=schema inplace of inferSchema=True"
   ]
  },
  {
   "cell_type": "code",
   "execution_count": 16,
   "id": "e31e34d4",
   "metadata": {},
   "outputs": [
    {
     "name": "stdout",
     "output_type": "stream",
     "text": [
      "+---+------+------+------+\n",
      "| id|  name|gender|salary|\n",
      "+---+------+------+------+\n",
      "|  3|geetha|female|  3000|\n",
      "|  4|chinna|  male|  4000|\n",
      "|  1|murali|  male|  1000|\n",
      "|  2|chintu|  male|  2000|\n",
      "+---+------+------+------+\n",
      "\n"
     ]
    }
   ],
   "source": [
    "df.show()"
   ]
  },
  {
   "cell_type": "markdown",
   "id": "cbefff01",
   "metadata": {},
   "source": [
    "# Write data Frame to CSV"
   ]
  },
  {
   "cell_type": "code",
   "execution_count": 27,
   "id": "3fb41a3b",
   "metadata": {},
   "outputs": [
    {
     "name": "stdout",
     "output_type": "stream",
     "text": [
      "+---+------+------+------+\n",
      "| Id|  name|gender|salary|\n",
      "+---+------+------+------+\n",
      "|  3|geetha|female|  3000|\n",
      "|  4|chinna|  male|  4000|\n",
      "|  1|murali|  male|  1000|\n",
      "|  2|chintu|  male|  2000|\n",
      "+---+------+------+------+\n",
      "\n"
     ]
    }
   ],
   "source": [
    "\n",
    "df.write.csv(path = 'temp',header=True,mode = 'ignore') # we are writing data back to temp folder, if folder already exists, it ignores the to write.\n",
    "spark.read.csv(path = 'temp',header=True,schema=schema).show() # reding and showing data from temp folder"
   ]
  }
 ],
 "metadata": {
  "kernelspec": {
   "display_name": "Python 3 (ipykernel)",
   "language": "python",
   "name": "python3"
  },
  "language_info": {
   "codemirror_mode": {
    "name": "ipython",
    "version": 3
   },
   "file_extension": ".py",
   "mimetype": "text/x-python",
   "name": "python",
   "nbconvert_exporter": "python",
   "pygments_lexer": "ipython3",
   "version": "3.10.6"
  }
 },
 "nbformat": 4,
 "nbformat_minor": 5
}
