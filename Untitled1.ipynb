{
 "cells": [
  {
   "cell_type": "code",
   "execution_count": 1,
   "id": "d1757d62",
   "metadata": {},
   "outputs": [
    {
     "ename": "SyntaxError",
     "evalue": "invalid syntax (1831322431.py, line 1)",
     "output_type": "error",
     "traceback": [
      "\u001b[0;36m  Cell \u001b[0;32mIn[1], line 1\u001b[0;36m\u001b[0m\n\u001b[0;31m    pip install faker\u001b[0m\n\u001b[0m        ^\u001b[0m\n\u001b[0;31mSyntaxError\u001b[0m\u001b[0;31m:\u001b[0m invalid syntax\n"
     ]
    }
   ],
   "source": [
    "pip install faker\n",
    "import csv\n",
    "from faker import Faker\n",
    "\n",
    "fake = Faker()\n",
    "\n",
    "# define field names\n",
    "fields = ['cust_key', 'name', 'address', 'nation_key', 'phone', 'account_balance', 'market_segment', 'comment']\n",
    "\n",
    "# generate 1000 rows of mock data\n",
    "rows = []\n",
    "for i in range(1000):\n",
    "    cust_key = i + 1\n",
    "    name = fake.name()\n",
    "    address = fake.street_address()\n",
    "    nation_key = fake.random_int(min=1, max=10)\n",
    "    phone = fake.phone_number()\n",
    "    account_balance = round(fake.uniform(100, 10000), 2)\n",
    "    market_segment = fake.random_element(elements=('Technology', 'Finance', 'Retail'))\n",
    "    comment = fake.sentence()\n",
    "    rows.append([cust_key, name, address, nation_key, phone, account_balance, market_segment, comment])\n",
    "\n",
    "# write data to CSV file\n",
    "with open('customer_data.csv', mode='w', newline='') as file:\n",
    "    writer = csv.writer(file)\n",
    "    writer.writerow(fields)\n",
    "    writer.writerows(rows)"
   ]
  }
 ],
 "metadata": {
  "kernelspec": {
   "display_name": "Python 3 (ipykernel)",
   "language": "python",
   "name": "python3"
  },
  "language_info": {
   "codemirror_mode": {
    "name": "ipython",
    "version": 3
   },
   "file_extension": ".py",
   "mimetype": "text/x-python",
   "name": "python",
   "nbconvert_exporter": "python",
   "pygments_lexer": "ipython3",
   "version": "3.10.6"
  }
 },
 "nbformat": 4,
 "nbformat_minor": 5
}
