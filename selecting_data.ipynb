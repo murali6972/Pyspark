{
 "cells": [
  {
   "cell_type": "code",
   "execution_count": 1,
   "id": "647c26ea",
   "metadata": {},
   "outputs": [
    {
     "name": "stdout",
     "output_type": "stream",
     "text": [
      "23/04/02 15:55:06 WARN Utils: Your hostname, murali-VirtualBox resolves to a loopback address: 127.0.1.1; using 10.0.2.15 instead (on interface enp0s3)\n",
      "23/04/02 15:55:06 WARN Utils: Set SPARK_LOCAL_IP if you need to bind to another address\n"
     ]
    },
    {
     "name": "stderr",
     "output_type": "stream",
     "text": [
      "Setting default log level to \"WARN\".\n",
      "To adjust logging level use sc.setLogLevel(newLevel). For SparkR, use setLogLevel(newLevel).\n"
     ]
    },
    {
     "name": "stdout",
     "output_type": "stream",
     "text": [
      "23/04/02 15:55:06 WARN NativeCodeLoader: Unable to load native-hadoop library for your platform... using builtin-java classes where applicable\n",
      "23/04/02 15:55:07 WARN Utils: Service 'SparkUI' could not bind on port 4040. Attempting port 4041.\n"
     ]
    },
    {
     "data": {
      "text/plain": [
       "25"
      ]
     },
     "execution_count": 1,
     "metadata": {},
     "output_type": "execute_result"
    }
   ],
   "source": [
    "import findspark\n",
    "findspark.init('/home/murali/spark-3.3.2-bin-hadoop3')\n",
    "from pyspark.sql import SparkSession\n",
    "spark = SparkSession.builder.appName(\"LoadRemoteFile\").getOrCreate()\n",
    "\n",
    "from pyspark import SparkFiles  \n",
    "url = \"https://raw.githubusercontent.com/murali6972/dataSets/main/small_radio_json.json\"\n",
    "spark.sparkContext.addFile(url)\n",
    "df = spark.read.json(SparkFiles.get(\"small_radio_json.json\"))\n",
    "df.count()"
   ]
  },
  {
   "cell_type": "code",
   "execution_count": 2,
   "id": "3d21fe2f",
   "metadata": {},
   "outputs": [
    {
     "name": "stdout",
     "output_type": "stream",
     "text": [
      "root\n",
      " |-- artist: string (nullable = true)\n",
      " |-- auth: string (nullable = true)\n",
      " |-- firstName: string (nullable = true)\n",
      " |-- gender: string (nullable = true)\n",
      " |-- itemInSession: long (nullable = true)\n",
      " |-- lastName: string (nullable = true)\n",
      " |-- length: double (nullable = true)\n",
      " |-- level: string (nullable = true)\n",
      " |-- location: string (nullable = true)\n",
      " |-- method: string (nullable = true)\n",
      " |-- page: string (nullable = true)\n",
      " |-- registration: long (nullable = true)\n",
      " |-- sessionId: long (nullable = true)\n",
      " |-- song: string (nullable = true)\n",
      " |-- status: long (nullable = true)\n",
      " |-- ts: long (nullable = true)\n",
      " |-- userId: string (nullable = true)\n",
      "\n"
     ]
    }
   ],
   "source": [
    "df.printSchema()"
   ]
  },
  {
   "cell_type": "code",
   "execution_count": 3,
   "id": "0d39d100",
   "metadata": {},
   "outputs": [
    {
     "name": "stdout",
     "output_type": "stream",
     "text": [
      "+--------------------+---------+---------+------+-------------+----------+---------+-----+--------------------+------+--------+-------------+---------+--------------------+------+-------------+------+\n",
      "|              artist|     auth|firstName|gender|itemInSession|  lastName|   length|level|            location|method|    page| registration|sessionId|                song|status|           ts|userId|\n",
      "+--------------------+---------+---------+------+-------------+----------+---------+-----+--------------------+------+--------+-------------+---------+--------------------+------+-------------+------+\n",
      "|         El Arrebato|Logged In| Annalyse|     F|            2|Montgomery|234.57914| free|  Killeen-Temple, TX|   PUT|NextSong|1384448062332|     1879|Quiero Quererte Q...|   200|1409318650332|   309|\n",
      "|Creedence Clearwa...|Logged In|   Dylann|     M|            9|    Thomas|340.87138| paid|       Anchorage, AK|   PUT|NextSong|1400723739332|       10|        Born To Move|   200|1409318653332|    11|\n",
      "|            Gorillaz|Logged In|     Liam|     M|           11|     Watts|246.17751| paid|New York-Newark-J...|   PUT|NextSong|1406279422332|     2047|                DARE|   200|1409318685332|   201|\n",
      "+--------------------+---------+---------+------+-------------+----------+---------+-----+--------------------+------+--------+-------------+---------+--------------------+------+-------------+------+\n",
      "only showing top 3 rows\n",
      "\n",
      "+--------------------+---------+---------+------+\n",
      "|              artist|     auth|firstName|gender|\n",
      "+--------------------+---------+---------+------+\n",
      "|         El Arrebato|Logged In| Annalyse|     F|\n",
      "|Creedence Clearwa...|Logged In|   Dylann|     M|\n",
      "|            Gorillaz|Logged In|     Liam|     M|\n",
      "|                null|Logged In|     Tess|     F|\n",
      "|        Otis Redding|Logged In|  Margaux|     F|\n",
      "|    Slightly Stoopid|Logged In|     Alan|     M|\n",
      "|                NOFX|Logged In|Gabriella|     F|\n",
      "|             Nirvana|Logged In|   Elijah|     M|\n",
      "|            Aventura|Logged In|  Margaux|     F|\n",
      "|            Harmonia|Logged In|     Tess|     F|\n",
      "|        Spragga Benz|Logged In|     Alan|     M|\n",
      "|          Bananarama|Logged In|     Liam|     M|\n",
      "|                null|Logged In|     Liam|     M|\n",
      "|     Alliance Ethnik|Logged In|   Dylann|     M|\n",
      "|         Sense Field|Logged In|     Alan|     M|\n",
      "|         Binary Star|Logged In|   Elijah|     M|\n",
      "|Sarah Borges and ...|Logged In|  Margaux|     F|\n",
      "|             Incubus|Logged In|     Alan|     M|\n",
      "|     Ella Fitzgerald|Logged In|   Dylann|     M|\n",
      "|                10cc|Logged In|  Margaux|     F|\n",
      "+--------------------+---------+---------+------+\n",
      "only showing top 20 rows\n",
      "\n"
     ]
    }
   ],
   "source": [
    "df.show(3)\n",
    "df.select('artist','auth','firstName','gender').show()"
   ]
  },
  {
   "cell_type": "code",
   "execution_count": 4,
   "id": "c4252c36",
   "metadata": {},
   "outputs": [
    {
     "name": "stdout",
     "output_type": "stream",
     "text": [
      "+--------------------+---------+---------+------+\n",
      "|              artist|     auth|firstName|gender|\n",
      "+--------------------+---------+---------+------+\n",
      "|         El Arrebato|Logged In| Annalyse|     F|\n",
      "|Creedence Clearwa...|Logged In|   Dylann|     M|\n",
      "|            Gorillaz|Logged In|     Liam|     M|\n",
      "|                null|Logged In|     Tess|     F|\n",
      "|        Otis Redding|Logged In|  Margaux|     F|\n",
      "|    Slightly Stoopid|Logged In|     Alan|     M|\n",
      "|                NOFX|Logged In|Gabriella|     F|\n",
      "|             Nirvana|Logged In|   Elijah|     M|\n",
      "|            Aventura|Logged In|  Margaux|     F|\n",
      "|            Harmonia|Logged In|     Tess|     F|\n",
      "|        Spragga Benz|Logged In|     Alan|     M|\n",
      "|          Bananarama|Logged In|     Liam|     M|\n",
      "|                null|Logged In|     Liam|     M|\n",
      "|     Alliance Ethnik|Logged In|   Dylann|     M|\n",
      "|         Sense Field|Logged In|     Alan|     M|\n",
      "|         Binary Star|Logged In|   Elijah|     M|\n",
      "|Sarah Borges and ...|Logged In|  Margaux|     F|\n",
      "|             Incubus|Logged In|     Alan|     M|\n",
      "|     Ella Fitzgerald|Logged In|   Dylann|     M|\n",
      "|                10cc|Logged In|  Margaux|     F|\n",
      "+--------------------+---------+---------+------+\n",
      "only showing top 20 rows\n",
      "\n"
     ]
    }
   ],
   "source": [
    "df.select(df.artist,df.auth, df.firstName, df.gender).show()"
   ]
  },
  {
   "cell_type": "code",
   "execution_count": 5,
   "id": "14fb91b6",
   "metadata": {
    "scrolled": true
   },
   "outputs": [],
   "source": [
    "from pyspark.sql.functions import col"
   ]
  },
  {
   "cell_type": "code",
   "execution_count": 8,
   "id": "7bcdf6f5",
   "metadata": {},
   "outputs": [
    {
     "name": "stdout",
     "output_type": "stream",
     "text": [
      "+--------------------+---------+---------+\n",
      "|              artist|     auth|firstName|\n",
      "+--------------------+---------+---------+\n",
      "|         El Arrebato|Logged In| Annalyse|\n",
      "|Creedence Clearwa...|Logged In|   Dylann|\n",
      "|            Gorillaz|Logged In|     Liam|\n",
      "|                null|Logged In|     Tess|\n",
      "|        Otis Redding|Logged In|  Margaux|\n",
      "|    Slightly Stoopid|Logged In|     Alan|\n",
      "|                NOFX|Logged In|Gabriella|\n",
      "|             Nirvana|Logged In|   Elijah|\n",
      "|            Aventura|Logged In|  Margaux|\n",
      "|            Harmonia|Logged In|     Tess|\n",
      "|        Spragga Benz|Logged In|     Alan|\n",
      "|          Bananarama|Logged In|     Liam|\n",
      "|                null|Logged In|     Liam|\n",
      "|     Alliance Ethnik|Logged In|   Dylann|\n",
      "|         Sense Field|Logged In|     Alan|\n",
      "|         Binary Star|Logged In|   Elijah|\n",
      "|Sarah Borges and ...|Logged In|  Margaux|\n",
      "|             Incubus|Logged In|     Alan|\n",
      "|     Ella Fitzgerald|Logged In|   Dylann|\n",
      "|                10cc|Logged In|  Margaux|\n",
      "+--------------------+---------+---------+\n",
      "only showing top 20 rows\n",
      "\n"
     ]
    }
   ],
   "source": [
    "df.select(col('artist'),col('auth'),col('firstName')).show()"
   ]
  },
  {
   "cell_type": "code",
   "execution_count": 9,
   "id": "0f4a44f0",
   "metadata": {},
   "outputs": [
    {
     "name": "stdout",
     "output_type": "stream",
     "text": [
      "+--------------------+---------+---------+------+-------------+----------+---------+-----+--------------------+------+--------+-------------+---------+--------------------+------+-------------+------+\n",
      "|              artist|     auth|firstName|gender|itemInSession|  lastName|   length|level|            location|method|    page| registration|sessionId|                song|status|           ts|userId|\n",
      "+--------------------+---------+---------+------+-------------+----------+---------+-----+--------------------+------+--------+-------------+---------+--------------------+------+-------------+------+\n",
      "|         El Arrebato|Logged In| Annalyse|     F|            2|Montgomery|234.57914| free|  Killeen-Temple, TX|   PUT|NextSong|1384448062332|     1879|Quiero Quererte Q...|   200|1409318650332|   309|\n",
      "|Creedence Clearwa...|Logged In|   Dylann|     M|            9|    Thomas|340.87138| paid|       Anchorage, AK|   PUT|NextSong|1400723739332|       10|        Born To Move|   200|1409318653332|    11|\n",
      "|            Gorillaz|Logged In|     Liam|     M|           11|     Watts|246.17751| paid|New York-Newark-J...|   PUT|NextSong|1406279422332|     2047|                DARE|   200|1409318685332|   201|\n",
      "|                null|Logged In|     Tess|     F|            0|  Townsend|     null| free|Nashville-Davidso...|   GET|    Home|1406970190332|     2136|                null|   200|1409318686332|   779|\n",
      "|        Otis Redding|Logged In|  Margaux|     F|            2|     Smith|135.57506| free|Atlanta-Sandy Spr...|   PUT|NextSong|1406191211332|      400| Send Me Some Lovin'|   200|1409318697332|   401|\n",
      "|    Slightly Stoopid|Logged In|     Alan|     M|           39|     Morse|198.53016| paid|Chicago-Napervill...|   PUT|NextSong|1401760632332|      520|         Mellow Mood|   200|1409318714332|   521|\n",
      "|                NOFX|Logged In|Gabriella|     F|            1|   Shelton| 130.2722| free|San Jose-Sunnyval...|   PUT|NextSong|1389460542332|     2261|            Linoleum|   200|1409318743332|   244|\n",
      "|             Nirvana|Logged In|   Elijah|     M|            0|  Williams|260.98893| paid|Detroit-Warren-De...|   PUT|NextSong|1388691347332|      968|The Man Who Sold ...|   200|1409318804332|   969|\n",
      "|            Aventura|Logged In|  Margaux|     F|            3|     Smith|293.56363| free|Atlanta-Sandy Spr...|   PUT|NextSong|1406191211332|      400|             La Nina|   200|1409318832332|   401|\n",
      "|            Harmonia|Logged In|     Tess|     F|            1|  Townsend|655.77751| free|Nashville-Davidso...|   PUT|NextSong|1406970190332|     2136|       Sehr kosmisch|   200|1409318891332|   779|\n",
      "|        Spragga Benz|Logged In|     Alan|     M|           40|     Morse|122.53995| paid|Chicago-Napervill...|   PUT|NextSong|1401760632332|      520|            Backshot|   200|1409318912332|   521|\n",
      "|          Bananarama|Logged In|     Liam|     M|           12|     Watts|208.92689| paid|New York-Newark-J...|   PUT|NextSong|1406279422332|     2047|Love In The First...|   200|1409318931332|   201|\n",
      "|                null|Logged In|     Liam|     M|           13|     Watts|     null| paid|New York-Newark-J...|   GET|    Home|1406279422332|     2047|                null|   200|1409318931332|   201|\n",
      "|     Alliance Ethnik|Logged In|   Dylann|     M|           10|    Thomas|252.21179| paid|       Anchorage, AK|   PUT|NextSong|1400723739332|       10|       ReprÃÂ©sente|   200|1409318993332|    11|\n",
      "|         Sense Field|Logged In|     Alan|     M|           41|     Morse|181.86404| paid|Chicago-Napervill...|   PUT|NextSong|1401760632332|      520|         Am I A Fool|   200|1409319034332|   521|\n",
      "|         Binary Star|Logged In|   Elijah|     M|            1|  Williams|268.93016| paid|Detroit-Warren-De...|   PUT|NextSong|1388691347332|      968|       Solar Powered|   200|1409319064332|   969|\n",
      "|Sarah Borges and ...|Logged In|  Margaux|     F|            4|     Smith|158.95465| free|Atlanta-Sandy Spr...|   PUT|NextSong|1406191211332|      400|      Do It For Free|   200|1409319125332|   401|\n",
      "|             Incubus|Logged In|     Alan|     M|           42|     Morse|232.46322| paid|Chicago-Napervill...|   PUT|NextSong|1401760632332|      520|               Drive|   200|1409319215332|   521|\n",
      "|     Ella Fitzgerald|Logged In|   Dylann|     M|           11|    Thomas|427.15383| paid|       Anchorage, AK|   PUT|NextSong|1400723739332|       10|On Green Dolphin ...|   200|1409319245332|    11|\n",
      "|                10cc|Logged In|  Margaux|     F|            5|     Smith|241.34485| free|Atlanta-Sandy Spr...|   PUT|NextSong|1406191211332|      400|          Silly Love|   200|1409319283332|   401|\n",
      "+--------------------+---------+---------+------+-------------+----------+---------+-----+--------------------+------+--------+-------------+---------+--------------------+------+-------------+------+\n",
      "only showing top 20 rows\n",
      "\n"
     ]
    }
   ],
   "source": [
    "df.select('*').show()"
   ]
  },
  {
   "cell_type": "code",
   "execution_count": 10,
   "id": "baae84b4",
   "metadata": {},
   "outputs": [
    {
     "name": "stdout",
     "output_type": "stream",
     "text": [
      "+--------------------+---------+---------+------+-------------+----------+---------+-----+--------------------+------+--------+-------------+---------+--------------------+------+-------------+------+\n",
      "|              artist|     auth|firstName|gender|itemInSession|  lastName|   length|level|            location|method|    page| registration|sessionId|                song|status|           ts|userId|\n",
      "+--------------------+---------+---------+------+-------------+----------+---------+-----+--------------------+------+--------+-------------+---------+--------------------+------+-------------+------+\n",
      "|         El Arrebato|Logged In| Annalyse|     F|            2|Montgomery|234.57914| free|  Killeen-Temple, TX|   PUT|NextSong|1384448062332|     1879|Quiero Quererte Q...|   200|1409318650332|   309|\n",
      "|Creedence Clearwa...|Logged In|   Dylann|     M|            9|    Thomas|340.87138| paid|       Anchorage, AK|   PUT|NextSong|1400723739332|       10|        Born To Move|   200|1409318653332|    11|\n",
      "|            Gorillaz|Logged In|     Liam|     M|           11|     Watts|246.17751| paid|New York-Newark-J...|   PUT|NextSong|1406279422332|     2047|                DARE|   200|1409318685332|   201|\n",
      "|                null|Logged In|     Tess|     F|            0|  Townsend|     null| free|Nashville-Davidso...|   GET|    Home|1406970190332|     2136|                null|   200|1409318686332|   779|\n",
      "|        Otis Redding|Logged In|  Margaux|     F|            2|     Smith|135.57506| free|Atlanta-Sandy Spr...|   PUT|NextSong|1406191211332|      400| Send Me Some Lovin'|   200|1409318697332|   401|\n",
      "|    Slightly Stoopid|Logged In|     Alan|     M|           39|     Morse|198.53016| paid|Chicago-Napervill...|   PUT|NextSong|1401760632332|      520|         Mellow Mood|   200|1409318714332|   521|\n",
      "|                NOFX|Logged In|Gabriella|     F|            1|   Shelton| 130.2722| free|San Jose-Sunnyval...|   PUT|NextSong|1389460542332|     2261|            Linoleum|   200|1409318743332|   244|\n",
      "|             Nirvana|Logged In|   Elijah|     M|            0|  Williams|260.98893| paid|Detroit-Warren-De...|   PUT|NextSong|1388691347332|      968|The Man Who Sold ...|   200|1409318804332|   969|\n",
      "|            Aventura|Logged In|  Margaux|     F|            3|     Smith|293.56363| free|Atlanta-Sandy Spr...|   PUT|NextSong|1406191211332|      400|             La Nina|   200|1409318832332|   401|\n",
      "|            Harmonia|Logged In|     Tess|     F|            1|  Townsend|655.77751| free|Nashville-Davidso...|   PUT|NextSong|1406970190332|     2136|       Sehr kosmisch|   200|1409318891332|   779|\n",
      "|        Spragga Benz|Logged In|     Alan|     M|           40|     Morse|122.53995| paid|Chicago-Napervill...|   PUT|NextSong|1401760632332|      520|            Backshot|   200|1409318912332|   521|\n",
      "|          Bananarama|Logged In|     Liam|     M|           12|     Watts|208.92689| paid|New York-Newark-J...|   PUT|NextSong|1406279422332|     2047|Love In The First...|   200|1409318931332|   201|\n",
      "|                null|Logged In|     Liam|     M|           13|     Watts|     null| paid|New York-Newark-J...|   GET|    Home|1406279422332|     2047|                null|   200|1409318931332|   201|\n",
      "|     Alliance Ethnik|Logged In|   Dylann|     M|           10|    Thomas|252.21179| paid|       Anchorage, AK|   PUT|NextSong|1400723739332|       10|       ReprÃÂ©sente|   200|1409318993332|    11|\n",
      "|         Sense Field|Logged In|     Alan|     M|           41|     Morse|181.86404| paid|Chicago-Napervill...|   PUT|NextSong|1401760632332|      520|         Am I A Fool|   200|1409319034332|   521|\n",
      "|         Binary Star|Logged In|   Elijah|     M|            1|  Williams|268.93016| paid|Detroit-Warren-De...|   PUT|NextSong|1388691347332|      968|       Solar Powered|   200|1409319064332|   969|\n",
      "|Sarah Borges and ...|Logged In|  Margaux|     F|            4|     Smith|158.95465| free|Atlanta-Sandy Spr...|   PUT|NextSong|1406191211332|      400|      Do It For Free|   200|1409319125332|   401|\n",
      "|             Incubus|Logged In|     Alan|     M|           42|     Morse|232.46322| paid|Chicago-Napervill...|   PUT|NextSong|1401760632332|      520|               Drive|   200|1409319215332|   521|\n",
      "|     Ella Fitzgerald|Logged In|   Dylann|     M|           11|    Thomas|427.15383| paid|       Anchorage, AK|   PUT|NextSong|1400723739332|       10|On Green Dolphin ...|   200|1409319245332|    11|\n",
      "|                10cc|Logged In|  Margaux|     F|            5|     Smith|241.34485| free|Atlanta-Sandy Spr...|   PUT|NextSong|1406191211332|      400|          Silly Love|   200|1409319283332|   401|\n",
      "+--------------------+---------+---------+------+-------------+----------+---------+-----+--------------------+------+--------+-------------+---------+--------------------+------+-------------+------+\n",
      "only showing top 20 rows\n",
      "\n"
     ]
    }
   ],
   "source": [
    "df.select([col for col in df.columns]).show()"
   ]
  },
  {
   "cell_type": "code",
   "execution_count": null,
   "id": "1cfbdcc5",
   "metadata": {},
   "outputs": [],
   "source": []
  }
 ],
 "metadata": {
  "kernelspec": {
   "display_name": "Python 3 (ipykernel)",
   "language": "python",
   "name": "python3"
  },
  "language_info": {
   "codemirror_mode": {
    "name": "ipython",
    "version": 3
   },
   "file_extension": ".py",
   "mimetype": "text/x-python",
   "name": "python",
   "nbconvert_exporter": "python",
   "pygments_lexer": "ipython3",
   "version": "3.10.6"
  }
 },
 "nbformat": 4,
 "nbformat_minor": 5
}
