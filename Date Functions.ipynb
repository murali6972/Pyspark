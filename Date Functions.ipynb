{
 "cells": [
  {
   "cell_type": "code",
   "execution_count": 1,
   "id": "405b65cd",
   "metadata": {},
   "outputs": [
    {
     "name": "stdout",
     "output_type": "stream",
     "text": [
      "23/04/04 15:42:13 WARN Utils: Your hostname, murali-VirtualBox resolves to a loopback address: 127.0.1.1; using 10.0.2.15 instead (on interface enp0s3)\n",
      "23/04/04 15:42:13 WARN Utils: Set SPARK_LOCAL_IP if you need to bind to another address\n"
     ]
    },
    {
     "name": "stderr",
     "output_type": "stream",
     "text": [
      "Setting default log level to \"WARN\".\n",
      "To adjust logging level use sc.setLogLevel(newLevel). For SparkR, use setLogLevel(newLevel).\n"
     ]
    },
    {
     "name": "stdout",
     "output_type": "stream",
     "text": [
      "23/04/04 15:42:13 WARN NativeCodeLoader: Unable to load native-hadoop library for your platform... using builtin-java classes where applicable\n",
      "23/04/04 15:42:14 WARN Utils: Service 'SparkUI' could not bind on port 4040. Attempting port 4041.\n"
     ]
    }
   ],
   "source": [
    "import findspark\n",
    "findspark.init('/home/murali/spark-3.3.2-bin-hadoop3')\n",
    "from pyspark.sql import SparkSession\n",
    "spark = SparkSession.builder.appName('DateFuncion').getOrCreate()"
   ]
  },
  {
   "cell_type": "code",
   "execution_count": 2,
   "id": "72f746ad",
   "metadata": {},
   "outputs": [
    {
     "name": "stdout",
     "output_type": "stream",
     "text": [
      "+---+\n",
      "| id|\n",
      "+---+\n",
      "|  0|\n",
      "|  1|\n",
      "|  2|\n",
      "|  3|\n",
      "|  4|\n",
      "+---+\n",
      "\n"
     ]
    }
   ],
   "source": [
    "df = spark.range(5)\n",
    "df.show()"
   ]
  },
  {
   "cell_type": "code",
   "execution_count": 18,
   "id": "59759a5c",
   "metadata": {},
   "outputs": [],
   "source": [
    "#datetype yyyy-mm-dd\n",
    "\n",
    "from pyspark.sql.functions import current_date, date_format\n",
    "df1 = df.withColumn('currentDate',current_date())"
   ]
  },
  {
   "cell_type": "code",
   "execution_count": 19,
   "id": "357602cd",
   "metadata": {},
   "outputs": [
    {
     "name": "stdout",
     "output_type": "stream",
     "text": [
      "+---+-----------+\n",
      "| id|currentDate|\n",
      "+---+-----------+\n",
      "|  0| 2023-04-04|\n",
      "|  1| 2023-04-04|\n",
      "|  2| 2023-04-04|\n",
      "|  3| 2023-04-04|\n",
      "|  4| 2023-04-04|\n",
      "+---+-----------+\n",
      "\n"
     ]
    }
   ],
   "source": [
    "df1.show()"
   ]
  },
  {
   "cell_type": "code",
   "execution_count": 20,
   "id": "3a57581a",
   "metadata": {},
   "outputs": [],
   "source": [
    "df2 = df1.withColumn('currentDate',date_format(df1.currentDate,'yyyy/mm/dd'))"
   ]
  },
  {
   "cell_type": "code",
   "execution_count": 22,
   "id": "f2d33da7",
   "metadata": {},
   "outputs": [
    {
     "name": "stdout",
     "output_type": "stream",
     "text": [
      "+---+-----------+\n",
      "| id|currentDate|\n",
      "+---+-----------+\n",
      "|  0| 2023/00/04|\n",
      "|  1| 2023/00/04|\n",
      "|  2| 2023/00/04|\n",
      "|  3| 2023/00/04|\n",
      "|  4| 2023/00/04|\n",
      "+---+-----------+\n",
      "\n",
      "root\n",
      " |-- id: long (nullable = false)\n",
      " |-- currentDate: string (nullable = false)\n",
      "\n"
     ]
    }
   ],
   "source": [
    "df2.show()\n",
    "df2.printSchema()"
   ]
  },
  {
   "cell_type": "code",
   "execution_count": 24,
   "id": "7be6a5c4",
   "metadata": {},
   "outputs": [
    {
     "name": "stdout",
     "output_type": "stream",
     "text": [
      "+---+-----------+----------+\n",
      "| id|currentDate|   newDate|\n",
      "+---+-----------+----------+\n",
      "|  0| 2023/00/04|2023-01-04|\n",
      "|  1| 2023/00/04|2023-01-04|\n",
      "|  2| 2023/00/04|2023-01-04|\n",
      "|  3| 2023/00/04|2023-01-04|\n",
      "|  4| 2023/00/04|2023-01-04|\n",
      "+---+-----------+----------+\n",
      "\n",
      "root\n",
      " |-- id: long (nullable = false)\n",
      " |-- currentDate: string (nullable = false)\n",
      " |-- newDate: date (nullable = true)\n",
      "\n"
     ]
    }
   ],
   "source": [
    "from pyspark.sql.functions import to_date\n",
    "df3 = df2.withColumn('newDate',to_date('currentDate','yyyy/mm/dd'))\n",
    "df3.show()\n",
    "df3.printSchema()"
   ]
  },
  {
   "cell_type": "markdown",
   "id": "3da2a151",
   "metadata": {},
   "source": [
    "# datediff(), month_between(), add_months(), date_add(), year(), month()"
   ]
  },
  {
   "cell_type": "code",
   "execution_count": 45,
   "id": "f09f16a1",
   "metadata": {},
   "outputs": [],
   "source": [
    "from pyspark.sql.functions import datediff,months_between,add_months,date_add,year,month,last_day"
   ]
  },
  {
   "cell_type": "code",
   "execution_count": 34,
   "id": "af2fae94",
   "metadata": {},
   "outputs": [],
   "source": [
    "df = spark.createDataFrame([('2015-06-14','2015-07-14')],['d1','d2'])"
   ]
  },
  {
   "cell_type": "code",
   "execution_count": 36,
   "id": "962ff019",
   "metadata": {},
   "outputs": [
    {
     "name": "stdout",
     "output_type": "stream",
     "text": [
      "+----------+----------+\n",
      "|        d1|        d2|\n",
      "+----------+----------+\n",
      "|2015-06-14|2015-07-14|\n",
      "+----------+----------+\n",
      "\n",
      "root\n",
      " |-- d1: string (nullable = true)\n",
      " |-- d2: string (nullable = true)\n",
      "\n"
     ]
    }
   ],
   "source": [
    "df.show()\n",
    "df.printSchema()"
   ]
  },
  {
   "cell_type": "code",
   "execution_count": 47,
   "id": "1cb27127",
   "metadata": {},
   "outputs": [
    {
     "name": "stdout",
     "output_type": "stream",
     "text": [
      "+----------+----------+--------+----------+----------+--------------+\n",
      "|        d1|        d2|datediff|monthsdiff|add3months|lastDayOfMonth|\n",
      "+----------+----------+--------+----------+----------+--------------+\n",
      "|2015-06-14|2015-07-14|      30|       1.0|2015-10-14|    2015-07-31|\n",
      "+----------+----------+--------+----------+----------+--------------+\n",
      "\n"
     ]
    }
   ],
   "source": [
    "df.withColumn('datediff',datediff(df.d2 , df.d1))\\\n",
    ".withColumn('monthsdiff', months_between(df.d2,df.d1))\\\n",
    ".withColumn('add3months', add_months(df.d2,3))\\\n",
    ".withColumn('lastDayOfMonth',last_day(df.d2))\\\n",
    ".show()"
   ]
  },
  {
   "cell_type": "code",
   "execution_count": null,
   "id": "8442d3eb",
   "metadata": {},
   "outputs": [],
   "source": []
  }
 ],
 "metadata": {
  "kernelspec": {
   "display_name": "Python 3 (ipykernel)",
   "language": "python",
   "name": "python3"
  },
  "language_info": {
   "codemirror_mode": {
    "name": "ipython",
    "version": 3
   },
   "file_extension": ".py",
   "mimetype": "text/x-python",
   "name": "python",
   "nbconvert_exporter": "python",
   "pygments_lexer": "ipython3",
   "version": "3.10.6"
  }
 },
 "nbformat": 4,
 "nbformat_minor": 5
}
