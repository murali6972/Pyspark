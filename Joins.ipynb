{
 "cells": [
  {
   "cell_type": "code",
   "execution_count": 1,
   "id": "0a1f9e3d",
   "metadata": {},
   "outputs": [],
   "source": [
    "import findspark"
   ]
  },
  {
   "cell_type": "code",
   "execution_count": 69,
   "id": "bcb9f016",
   "metadata": {},
   "outputs": [],
   "source": [
    "findspark.init('/home/murali/spark-3.3.2-bin-hadoop3')\n",
    "from pyspark.sql import SparkSession\n",
    "spark = SparkSession.builder.appName('Joins').getOrCreate()"
   ]
  },
  {
   "cell_type": "code",
   "execution_count": 64,
   "id": "d43fd52a",
   "metadata": {},
   "outputs": [
    {
     "name": "stdout",
     "output_type": "stream",
     "text": [
      "+-----+------+---------+----+-----------+----+----+------+\n",
      "|EMPNO| ENAME|      JOB| MGR|   HIREDATE| SAL|COMM|DEPTNO|\n",
      "+-----+------+---------+----+-----------+----+----+------+\n",
      "| 7369| SMITH|    CLERK|7902|17-DEC-1980| 800|null|    20|\n",
      "| 7499| ALLEN| SALESMAN|7698|20-FEB-1981|1600| 300|    30|\n",
      "| 7521|  WARD| SALESMAN|7698|22-FEB-1981|1250| 500|    30|\n",
      "| 7566| JONES|  MANAGER|7839|02-APR-1981|2975|null|    20|\n",
      "| 7654|MARTIN| SALESMAN|7698|28-SEP-1981|1250|1400|    30|\n",
      "| 7698| BLAKE|  MANAGER|7839|01-MAY-1981|2850|null|    30|\n",
      "| 7782| CLARK|  MANAGER|7839|09-JUN-1981|2450|null|    10|\n",
      "| 7788| SCOTT|  ANALYST|7566|19-APR-1987|3000|null|    20|\n",
      "| 7839|  KING|PRESIDENT|null|17-NOV-1981|5000|null|    10|\n",
      "| 7844|TURNER| SALESMAN|7698|08-SEP-1981|1500|   0|    30|\n",
      "| 7876| ADAMS|    CLERK|7788|23-MAY-1987|1100|null|    20|\n",
      "| 7900| JAMES|    CLERK|7698|03-DEC-1981| 950|null|    30|\n",
      "| 7902|  FORD|  ANALYST|7566|03-DEC-1981|3000|null|    20|\n",
      "| 7934|MILLER|    CLERK|7782|23-JAN-1982|1300|null|    10|\n",
      "+-----+------+---------+----+-----------+----+----+------+\n",
      "\n",
      "root\n",
      " |-- EMPNO: integer (nullable = true)\n",
      " |-- ENAME: string (nullable = true)\n",
      " |-- JOB: string (nullable = true)\n",
      " |-- MGR: integer (nullable = true)\n",
      " |-- HIREDATE: string (nullable = true)\n",
      " |-- SAL: integer (nullable = true)\n",
      " |-- COMM: integer (nullable = true)\n",
      " |-- DEPTNO: integer (nullable = true)\n",
      "\n",
      "root\n",
      " |-- DEPTNO: integer (nullable = true)\n",
      " |-- DNAME: string (nullable = true)\n",
      " |-- LOCATION: string (nullable = true)\n",
      "\n"
     ]
    }
   ],
   "source": [
    "emp_path = '/home/murali/Desktop/data_files/emp.csv'\n",
    "\n",
    "emp = spark.read.csv(emp_path,header=True, inferSchema=True)\n",
    "emp.show()\n",
    "emp.printSchema()\n",
    "\n",
    "dept_path = '/home/murali/Desktop/data_files/dept.csv'\n",
    "dept = spark.read.csv(dept_path,header=True, inferSchema=True)\n",
    "dept.printSchema()"
   ]
  },
  {
   "cell_type": "code",
   "execution_count": 65,
   "id": "a49eb9cc",
   "metadata": {},
   "outputs": [
    {
     "name": "stdout",
     "output_type": "stream",
     "text": [
      "+-----+------+---------+----+-----------+----+----+------+\n",
      "|EMPNO| ENAME|      JOB| MGR|   HIREDATE| SAL|COMM|DEPTNO|\n",
      "+-----+------+---------+----+-----------+----+----+------+\n",
      "| 7369| SMITH|    CLERK|7902|17-DEC-1980| 800|null|    20|\n",
      "| 7499| ALLEN| SALESMAN|7698|20-FEB-1981|1600| 300|    30|\n",
      "| 7521|  WARD| SALESMAN|7698|22-FEB-1981|1250| 500|    30|\n",
      "| 7566| JONES|  MANAGER|7839|02-APR-1981|2975|null|    20|\n",
      "| 7654|MARTIN| SALESMAN|7698|28-SEP-1981|1250|1400|    30|\n",
      "| 7698| BLAKE|  MANAGER|7839|01-MAY-1981|2850|null|    30|\n",
      "| 7782| CLARK|  MANAGER|7839|09-JUN-1981|2450|null|    10|\n",
      "| 7788| SCOTT|  ANALYST|7566|19-APR-1987|3000|null|    20|\n",
      "| 7839|  KING|PRESIDENT|null|17-NOV-1981|5000|null|    10|\n",
      "| 7844|TURNER| SALESMAN|7698|08-SEP-1981|1500|   0|    30|\n",
      "| 7876| ADAMS|    CLERK|7788|23-MAY-1987|1100|null|    20|\n",
      "| 7900| JAMES|    CLERK|7698|03-DEC-1981| 950|null|    30|\n",
      "| 7902|  FORD|  ANALYST|7566|03-DEC-1981|3000|null|    20|\n",
      "| 7934|MILLER|    CLERK|7782|23-JAN-1982|1300|null|    10|\n",
      "+-----+------+---------+----+-----------+----+----+------+\n",
      "\n",
      "+------+----------+--------+\n",
      "|DEPTNO|     DNAME|LOCATION|\n",
      "+------+----------+--------+\n",
      "|    10|ACCOUNTING|NEW YORK|\n",
      "|    20|  RESEARCH|  DALLAS|\n",
      "|    30|     SALES| CHICAGO|\n",
      "|    40|OPERATIONS|  BOSTON|\n",
      "+------+----------+--------+\n",
      "\n"
     ]
    }
   ],
   "source": [
    "#emp = emp.filter(emp.DEPTNO == 10)\n",
    "emp.show()\n",
    "dept.show()\n"
   ]
  },
  {
   "cell_type": "code",
   "execution_count": 66,
   "id": "4106fe42",
   "metadata": {},
   "outputs": [
    {
     "name": "stdout",
     "output_type": "stream",
     "text": [
      "+-----+------+------+\n",
      "|EMPNO|DEPTNO|DEPTNO|\n",
      "+-----+------+------+\n",
      "| 7369|    20|    20|\n",
      "| 7499|    30|    30|\n",
      "| 7521|    30|    30|\n",
      "| 7566|    20|    20|\n",
      "| 7654|    30|    30|\n",
      "| 7698|    30|    30|\n",
      "| 7782|    10|    10|\n",
      "| 7788|    20|    20|\n",
      "| 7839|    10|    10|\n",
      "| 7844|    30|    30|\n",
      "| 7876|    20|    20|\n",
      "| 7900|    30|    30|\n",
      "| 7902|    20|    20|\n",
      "| 7934|    10|    10|\n",
      "+-----+------+------+\n",
      "\n"
     ]
    }
   ],
   "source": [
    "emp.join(dept,emp.DEPTNO == dept.DEPTNO,'inner').select(emp.EMPNO,emp.DEPTNO,dept.DEPTNO).show()"
   ]
  },
  {
   "cell_type": "code",
   "execution_count": 67,
   "id": "818dfc84",
   "metadata": {},
   "outputs": [
    {
     "name": "stdout",
     "output_type": "stream",
     "text": [
      "+-----+------+------+\n",
      "|EMPNO|DEPTNO|DEPTNO|\n",
      "+-----+------+------+\n",
      "| 7369|    20|    20|\n",
      "| 7499|    30|    30|\n",
      "| 7521|    30|    30|\n",
      "| 7566|    20|    20|\n",
      "| 7654|    30|    30|\n",
      "| 7698|    30|    30|\n",
      "| 7782|    10|    10|\n",
      "| 7788|    20|    20|\n",
      "| 7839|    10|    10|\n",
      "| 7844|    30|    30|\n",
      "| 7876|    20|    20|\n",
      "| 7900|    30|    30|\n",
      "| 7902|    20|    20|\n",
      "| 7934|    10|    10|\n",
      "+-----+------+------+\n",
      "\n"
     ]
    }
   ],
   "source": [
    "emp.join(dept,emp.DEPTNO == dept.DEPTNO,'left').select(emp.EMPNO,emp.DEPTNO,dept.DEPTNO).show()"
   ]
  },
  {
   "cell_type": "code",
   "execution_count": 70,
   "id": "ef3e9d65",
   "metadata": {},
   "outputs": [
    {
     "name": "stdout",
     "output_type": "stream",
     "text": [
      "+-----+------+---------+----+-----------+----+----+------+------+----------+--------+\n",
      "|EMPNO| ENAME|      JOB| MGR|   HIREDATE| SAL|COMM|DEPTNO|DEPTNO|     DNAME|LOCATION|\n",
      "+-----+------+---------+----+-----------+----+----+------+------+----------+--------+\n",
      "| 7934|MILLER|    CLERK|7782|23-JAN-1982|1300|null|    10|    10|ACCOUNTING|NEW YORK|\n",
      "| 7839|  KING|PRESIDENT|null|17-NOV-1981|5000|null|    10|    10|ACCOUNTING|NEW YORK|\n",
      "| 7782| CLARK|  MANAGER|7839|09-JUN-1981|2450|null|    10|    10|ACCOUNTING|NEW YORK|\n",
      "| 7902|  FORD|  ANALYST|7566|03-DEC-1981|3000|null|    20|    20|  RESEARCH|  DALLAS|\n",
      "| 7876| ADAMS|    CLERK|7788|23-MAY-1987|1100|null|    20|    20|  RESEARCH|  DALLAS|\n",
      "| 7788| SCOTT|  ANALYST|7566|19-APR-1987|3000|null|    20|    20|  RESEARCH|  DALLAS|\n",
      "| 7566| JONES|  MANAGER|7839|02-APR-1981|2975|null|    20|    20|  RESEARCH|  DALLAS|\n",
      "| 7369| SMITH|    CLERK|7902|17-DEC-1980| 800|null|    20|    20|  RESEARCH|  DALLAS|\n",
      "| 7900| JAMES|    CLERK|7698|03-DEC-1981| 950|null|    30|    30|     SALES| CHICAGO|\n",
      "| 7844|TURNER| SALESMAN|7698|08-SEP-1981|1500|   0|    30|    30|     SALES| CHICAGO|\n",
      "| 7698| BLAKE|  MANAGER|7839|01-MAY-1981|2850|null|    30|    30|     SALES| CHICAGO|\n",
      "| 7654|MARTIN| SALESMAN|7698|28-SEP-1981|1250|1400|    30|    30|     SALES| CHICAGO|\n",
      "| 7521|  WARD| SALESMAN|7698|22-FEB-1981|1250| 500|    30|    30|     SALES| CHICAGO|\n",
      "| 7499| ALLEN| SALESMAN|7698|20-FEB-1981|1600| 300|    30|    30|     SALES| CHICAGO|\n",
      "| null|  null|     null|null|       null|null|null|  null|    40|OPERATIONS|  BOSTON|\n",
      "+-----+------+---------+----+-----------+----+----+------+------+----------+--------+\n",
      "\n"
     ]
    }
   ],
   "source": [
    "emp.join(dept,emp.DEPTNO == dept.DEPTNO,'right').show()"
   ]
  },
  {
   "cell_type": "markdown",
   "id": "054167b4",
   "metadata": {},
   "source": [
    "# leftsemi Vs leftanti \n",
    "\n",
    "leftsemi is exactly the left join but insted of fetching all columns from both tables, it shows only left table.\n",
    "\n",
    "leftanti is exactly the opposit to the above. it will do the left join but it will shows columns from right table."
   ]
  },
  {
   "cell_type": "code",
   "execution_count": 79,
   "id": "de5b71ab",
   "metadata": {},
   "outputs": [
    {
     "name": "stdout",
     "output_type": "stream",
     "text": [
      "+------+----------+--------+\n",
      "|DEPTNO|     DNAME|LOCATION|\n",
      "+------+----------+--------+\n",
      "|    10|ACCOUNTING|NEW YORK|\n",
      "|    20|  RESEARCH|  DALLAS|\n",
      "|    30|     SALES| CHICAGO|\n",
      "+------+----------+--------+\n",
      "\n"
     ]
    }
   ],
   "source": [
    "dept.join(emp,dept.DEPTNO == emp.DEPTNO, 'leftsemi').show()"
   ]
  },
  {
   "cell_type": "code",
   "execution_count": 78,
   "id": "90220cbf",
   "metadata": {},
   "outputs": [
    {
     "name": "stdout",
     "output_type": "stream",
     "text": [
      "+------+----------+--------+\n",
      "|DEPTNO|     DNAME|LOCATION|\n",
      "+------+----------+--------+\n",
      "|    40|OPERATIONS|  BOSTON|\n",
      "+------+----------+--------+\n",
      "\n"
     ]
    }
   ],
   "source": [
    "dept.join(emp,dept.DEPTNO == emp.DEPTNO, 'leftanti').show()"
   ]
  },
  {
   "cell_type": "markdown",
   "id": "f49ca174",
   "metadata": {},
   "source": [
    "# Sefl Join \n",
    "\n",
    "It is useful to work on hyrarchial tables"
   ]
  },
  {
   "cell_type": "code",
   "execution_count": 101,
   "id": "1d5dca9a",
   "metadata": {},
   "outputs": [
    {
     "name": "stdout",
     "output_type": "stream",
     "text": [
      "+-----+------+-----------+\n",
      "|EMPNO| ENAME|ManagerName|\n",
      "+-----+------+-----------+\n",
      "| 7369| SMITH|       FORD|\n",
      "| 7499| ALLEN|      BLAKE|\n",
      "| 7521|  WARD|      BLAKE|\n",
      "| 7566| JONES|       KING|\n",
      "| 7654|MARTIN|      BLAKE|\n",
      "| 7698| BLAKE|       KING|\n",
      "| 7782| CLARK|       KING|\n",
      "| 7788| SCOTT|      JONES|\n",
      "| 7844|TURNER|      BLAKE|\n",
      "| 7876| ADAMS|      SCOTT|\n",
      "| 7900| JAMES|      BLAKE|\n",
      "| 7902|  FORD|      JONES|\n",
      "| 7934|MILLER|      CLARK|\n",
      "+-----+------+-----------+\n",
      "\n",
      "+-----+------+---------+----+-----------+----+----+------+\n",
      "|EMPNO| ENAME|      JOB| MGR|   HIREDATE| SAL|COMM|DEPTNO|\n",
      "+-----+------+---------+----+-----------+----+----+------+\n",
      "| 7369| SMITH|    CLERK|7902|17-DEC-1980| 800|null|    20|\n",
      "| 7499| ALLEN| SALESMAN|7698|20-FEB-1981|1600| 300|    30|\n",
      "| 7521|  WARD| SALESMAN|7698|22-FEB-1981|1250| 500|    30|\n",
      "| 7566| JONES|  MANAGER|7839|02-APR-1981|2975|null|    20|\n",
      "| 7654|MARTIN| SALESMAN|7698|28-SEP-1981|1250|1400|    30|\n",
      "| 7698| BLAKE|  MANAGER|7839|01-MAY-1981|2850|null|    30|\n",
      "| 7782| CLARK|  MANAGER|7839|09-JUN-1981|2450|null|    10|\n",
      "| 7788| SCOTT|  ANALYST|7566|19-APR-1987|3000|null|    20|\n",
      "| 7839|  KING|PRESIDENT|null|17-NOV-1981|5000|null|    10|\n",
      "| 7844|TURNER| SALESMAN|7698|08-SEP-1981|1500|   0|    30|\n",
      "| 7876| ADAMS|    CLERK|7788|23-MAY-1987|1100|null|    20|\n",
      "| 7900| JAMES|    CLERK|7698|03-DEC-1981| 950|null|    30|\n",
      "| 7902|  FORD|  ANALYST|7566|03-DEC-1981|3000|null|    20|\n",
      "| 7934|MILLER|    CLERK|7782|23-JAN-1982|1300|null|    10|\n",
      "+-----+------+---------+----+-----------+----+----+------+\n",
      "\n"
     ]
    }
   ],
   "source": [
    "from pyspark.sql.functions import col\n",
    "emp.alias('e').join(                                \\\n",
    "                    emp.alias('m'),                 \\\n",
    "                    col('e.MGR') == col('m.EMPNO'), \\\n",
    "                    'inner'                         \\\n",
    "                    )                               \\\n",
    ".select(\n",
    "    col('e.EMPNO'),                                 \\\n",
    "    col('e.ENAME'),                                 \\\n",
    "    #col('e.MGR'),                                  \\\n",
    "    col('m.ENAME').alias('ManagerName')             \\\n",
    ").show()\n",
    "\n",
    "emp.show()"
   ]
  },
  {
   "cell_type": "code",
   "execution_count": null,
   "id": "259f2942",
   "metadata": {},
   "outputs": [],
   "source": []
  }
 ],
 "metadata": {
  "kernelspec": {
   "display_name": "Python 3 (ipykernel)",
   "language": "python",
   "name": "python3"
  },
  "language_info": {
   "codemirror_mode": {
    "name": "ipython",
    "version": 3
   },
   "file_extension": ".py",
   "mimetype": "text/x-python",
   "name": "python",
   "nbconvert_exporter": "python",
   "pygments_lexer": "ipython3",
   "version": "3.10.6"
  }
 },
 "nbformat": 4,
 "nbformat_minor": 5
}
